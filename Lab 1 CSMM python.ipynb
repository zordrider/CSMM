{
 "cells": [
  {
   "cell_type": "markdown",
   "metadata": {},
   "source": [
    "## Cognitive Systems Mathematics and Methods TX00DG17-3001\n",
    "<r></r>\n",
    "Arseny Savin\n",
    "<r></r>\n",
    "Lab 1"
   ]
  },
  {
   "cell_type": "code",
   "execution_count": 2,
   "metadata": {
    "collapsed": true
   },
   "outputs": [],
   "source": [
    "import numpy as np\n",
    "import pandas as pd\n",
    "import matplotlib.pyplot as plt"
   ]
  },
  {
   "cell_type": "markdown",
   "metadata": {},
   "source": [
    "## Assignment 3"
   ]
  },
  {
   "cell_type": "code",
   "execution_count": 3,
   "metadata": {
    "collapsed": true
   },
   "outputs": [],
   "source": [
    "names = ['id','age','bp','sg','al','su','rbc','pc','pcc','ba','bgr','bu','sc', 'sod',\n",
    "        'pot','hemo','pcv','wc','rc','htn','dm','cad','appet','pe','ane','class']"
   ]
  },
  {
   "cell_type": "code",
   "execution_count": 4,
   "metadata": {
    "collapsed": true
   },
   "outputs": [],
   "source": [
    "df = pd.read_csv('kidney.csv')"
   ]
  },
  {
   "cell_type": "code",
   "execution_count": 5,
   "metadata": {},
   "outputs": [
    {
     "data": {
      "image/png": "[encoded data removed]",
      "text/plain": [
       "<matplotlib.figure.Figure at 0x110db1290>"
      ]
     },
     "metadata": {},
     "output_type": "display_data"
    }
   ],
   "source": [
    "df.hist()\n",
    "plt.show()"
   ]
  },
  {
   "cell_type": "code",
   "execution_count": 60,
   "metadata": {},
   "outputs": [
    {
     "data": {
      "text/plain": [
       "<bound method DataFrame.mean of       id   age     bp     sg   al   su       rbc        pc         pcc  \\\n",
       "0      0  48.0   80.0  1.020  1.0  0.0       NaN    normal  notpresent   \n",
       "1      1   7.0   50.0  1.020  4.0  0.0       NaN    normal  notpresent   \n",
       "2      2  62.0   80.0  1.010  2.0  3.0    normal    normal  notpresent   \n",
       "3      3  48.0   70.0  1.005  4.0  0.0    normal  abnormal     present   \n",
       "4      4  51.0   80.0  1.010  2.0  0.0    normal    normal  notpresent   \n",
       "5      5  60.0   90.0  1.015  3.0  0.0       NaN       NaN  notpresent   \n",
       "6      6  68.0   70.0  1.010  0.0  0.0       NaN    normal  notpresent   \n",
       "7      7  24.0    NaN  1.015  2.0  4.0    normal  abnormal  notpresent   \n",
       "8      8  52.0  100.0  1.015  3.0  0.0    normal  abnormal     present   \n",
       "9      9  53.0   90.0  1.020  2.0  0.0  abnormal  abnormal     present   \n",
       "10    10  50.0   60.0  1.010  2.0  4.0       NaN  abnormal     present   \n",
       "11    11  63.0   70.0  1.010  3.0  0.0  abnormal  abnormal     present   \n",
       "12    12  68.0   70.0  1.015  3.0  1.0       NaN    normal     present   \n",
       "13    13  68.0   70.0    NaN  NaN  NaN       NaN       NaN  notpresent   \n",
       "14    14  68.0   80.0  1.010  3.0  2.0    normal  abnormal     present   \n",
       "15    15  40.0   80.0  1.015  3.0  0.0       NaN    normal  notpresent   \n",
       "16    16  47.0   70.0  1.015  2.0  0.0       NaN    normal  notpresent   \n",
       "17    17  47.0   80.0    NaN  NaN  NaN       NaN       NaN  notpresent   \n",
       "18    18  60.0  100.0  1.025  0.0  3.0       NaN    normal  notpresent   \n",
       "19    19  62.0   60.0  1.015  1.0  0.0       NaN  abnormal     present   \n",
       "20    20  61.0   80.0  1.015  2.0  0.0  abnormal  abnormal  notpresent   \n",
       "21    21  60.0   90.0    NaN  NaN  NaN       NaN       NaN  notpresent   \n",
       "22    22  48.0   80.0  1.025  4.0  0.0    normal  abnormal  notpresent   \n",
       "23    23  21.0   70.0  1.010  0.0  0.0       NaN    normal  notpresent   \n",
       "24    24  42.0  100.0  1.015  4.0  0.0    normal  abnormal  notpresent   \n",
       "25    25  61.0   60.0  1.025  0.0  0.0       NaN    normal  notpresent   \n",
       "26    26  75.0   80.0  1.015  0.0  0.0       NaN    normal  notpresent   \n",
       "27    27  69.0   70.0  1.010  3.0  4.0    normal  abnormal  notpresent   \n",
       "28    28  75.0   70.0    NaN  1.0  3.0       NaN       NaN  notpresent   \n",
       "29    29  68.0   70.0  1.005  1.0  0.0  abnormal  abnormal     present   \n",
       "..   ...   ...    ...    ...  ...  ...       ...       ...         ...   \n",
       "370  370  69.0   70.0  1.020  0.0  0.0    normal    normal  notpresent   \n",
       "371  371  28.0   60.0  1.025  0.0  0.0    normal    normal  notpresent   \n",
       "372  372  72.0   60.0  1.020  0.0  0.0    normal    normal  notpresent   \n",
       "373  373  61.0   70.0  1.025  0.0  0.0    normal    normal  notpresent   \n",
       "374  374  79.0   80.0  1.025  0.0  0.0    normal    normal  notpresent   \n",
       "375  375  70.0   80.0  1.020  0.0  0.0    normal    normal  notpresent   \n",
       "376  376  58.0   70.0  1.025  0.0  0.0    normal    normal  notpresent   \n",
       "377  377  64.0   70.0  1.020  0.0  0.0    normal    normal  notpresent   \n",
       "378  378  71.0   60.0  1.025  0.0  0.0    normal    normal  notpresent   \n",
       "379  379  62.0   80.0  1.025  0.0  0.0    normal    normal  notpresent   \n",
       "380  380  59.0   60.0  1.020  0.0  0.0    normal    normal  notpresent   \n",
       "381  381  71.0   70.0  1.025  0.0  0.0       NaN       NaN  notpresent   \n",
       "382  382  48.0   80.0  1.025  0.0  0.0    normal    normal  notpresent   \n",
       "383  383  80.0   80.0  1.025  0.0  0.0    normal    normal  notpresent   \n",
       "384  384  57.0   60.0  1.020  0.0  0.0    normal    normal  notpresent   \n",
       "385  385  63.0   70.0  1.020  0.0  0.0    normal    normal  notpresent   \n",
       "386  386  46.0   70.0  1.025  0.0  0.0    normal    normal  notpresent   \n",
       "387  387  15.0   80.0  1.025  0.0  0.0    normal    normal  notpresent   \n",
       "388  388  51.0   80.0  1.020  0.0  0.0    normal    normal  notpresent   \n",
       "389  389  41.0   80.0  1.025  0.0  0.0    normal    normal  notpresent   \n",
       "390  390  52.0   80.0  1.025  0.0  0.0    normal    normal  notpresent   \n",
       "391  391  36.0   80.0  1.025  0.0  0.0    normal    normal  notpresent   \n",
       "392  392  57.0   80.0  1.020  0.0  0.0    normal    normal  notpresent   \n",
       "393  393  43.0   60.0  1.025  0.0  0.0    normal    normal  notpresent   \n",
       "394  394  50.0   80.0  1.020  0.0  0.0    normal    normal  notpresent   \n",
       "395  395  55.0   80.0  1.020  0.0  0.0    normal    normal  notpresent   \n",
       "396  396  42.0   70.0  1.025  0.0  0.0    normal    normal  notpresent   \n",
       "397  397  12.0   80.0  1.020  0.0  0.0    normal    normal  notpresent   \n",
       "398  398  17.0   60.0  1.025  0.0  0.0    normal    normal  notpresent   \n",
       "399  399  58.0   80.0  1.025  0.0  0.0    normal    normal  notpresent   \n",
       "\n",
       "             ba      ...        pcv     wc   rc  htn   dm  cad appet   pe  \\\n",
       "0    notpresent      ...         44   7800  5.2  yes  yes   no  good   no   \n",
       "1    notpresent      ...         38   6000  NaN   no   no   no  good   no   \n",
       "2    notpresent      ...         31   7500  NaN   no  yes   no  poor   no   \n",
       "3    notpresent      ...         32   6700  3.9  yes   no   no  poor  yes   \n",
       "4    notpresent      ...         35   7300  4.6   no   no   no  good   no   \n",
       "5    notpresent      ...         39   7800  4.4  yes  yes   no  good  yes   \n",
       "6    notpresent      ...         36    NaN  NaN   no   no   no  good   no   \n",
       "7    notpresent      ...         44   6900    5   no  yes   no  good  yes   \n",
       "8    notpresent      ...         33   9600  4.0  yes  yes   no  good   no   \n",
       "9    notpresent      ...         29  12100  3.7  yes  yes   no  poor   no   \n",
       "10   notpresent      ...         28    NaN  NaN  yes  yes   no  good   no   \n",
       "11   notpresent      ...         32   4500  3.8  yes  yes   no  poor  yes   \n",
       "12   notpresent      ...         28  12200  3.4  yes  yes  yes  poor  yes   \n",
       "13   notpresent      ...        NaN    NaN  NaN  yes  yes  yes  poor  yes   \n",
       "14      present      ...         16  11000  2.6  yes  yes  yes  poor  yes   \n",
       "15   notpresent      ...         24   3800  2.8  yes   no   no  good   no   \n",
       "16   notpresent      ...        NaN    NaN  NaN   no   no   no  good   no   \n",
       "17   notpresent      ...        NaN    NaN  NaN  yes   no   no  poor   no   \n",
       "18   notpresent      ...         37  11400  4.3  yes  yes  yes  good   no   \n",
       "19   notpresent      ...         30   5300  3.7  yes   no  yes  good   no   \n",
       "20   notpresent      ...         24   9200  3.2  yes  yes  yes  poor  yes   \n",
       "21   notpresent      ...         32   6200  3.6  yes  yes  yes  good   no   \n",
       "22   notpresent      ...         32   6900  3.4  yes   no   no  good   no   \n",
       "23   notpresent      ...        NaN    NaN  NaN   no   no   no  poor   no   \n",
       "24      present      ...         39   8300  4.6  yes   no   no  poor   no   \n",
       "25   notpresent      ...         29   8400  3.7  yes  yes   no  good   no   \n",
       "26   notpresent      ...         35  10300    4  yes  yes   no  poor   no   \n",
       "27   notpresent      ...         37   9600  4.1  yes  yes  yes  good  yes   \n",
       "28   notpresent      ...        NaN    NaN  NaN   no  yes   no  good   no   \n",
       "29   notpresent      ...         38    NaN  NaN   no   no  yes  good   no   \n",
       "..          ...      ...        ...    ...  ...  ...  ...  ...   ...  ...   \n",
       "370  notpresent      ...         50   9300  5.4   no   no   no  good   no   \n",
       "371  notpresent      ...         51   6500  5.0   no   no   no  good   no   \n",
       "372  notpresent      ...         52  10500  5.5   no   no   no  good   no   \n",
       "373  notpresent      ...         47   9200  4.9   no   no   no  good   no   \n",
       "374  notpresent      ...         40   8000  6.4   no   no   no  good   no   \n",
       "375  notpresent      ...         48   9700  5.6   no   no   no  good   no   \n",
       "376  notpresent      ...         53   9100  5.2   no   no   no  good   no   \n",
       "377  notpresent      ...         49   6400  4.8   no   no   no  good   no   \n",
       "378  notpresent      ...         42   7700  5.5   no   no   no  good   no   \n",
       "379  notpresent      ...         50   5400  5.7   no   no   no  good   no   \n",
       "380  notpresent      ...         54   6500  4.9   no   no   no  good   no   \n",
       "381  notpresent      ...         40   5800  5.9   no   no   no  good   no   \n",
       "382  notpresent      ...         51   6000  6.5   no   no   no  good   no   \n",
       "383  notpresent      ...         49   5100  5.0   no   no   no  good   no   \n",
       "384  notpresent      ...         42  11000  4.5   no   no   no  good   no   \n",
       "385  notpresent      ...         52   8000  5.1   no   no   no  good   no   \n",
       "386  notpresent      ...         43   5700  6.5   no   no   no  good   no   \n",
       "387  notpresent      ...         50   6200  5.2   no   no   no  good   no   \n",
       "388  notpresent      ...         46   9500  6.4   no   no   no  good   no   \n",
       "389  notpresent      ...         52   7200  5.8   no   no   no  good   no   \n",
       "390  notpresent      ...         52   6300  5.3   no   no   no  good   no   \n",
       "391  notpresent      ...         44   5800  6.3   no   no   no  good   no   \n",
       "392  notpresent      ...         46   6600  5.5   no   no   no  good   no   \n",
       "393  notpresent      ...         54   7400  5.4   no   no   no  good   no   \n",
       "394  notpresent      ...         45   9500  4.6   no   no   no  good   no   \n",
       "395  notpresent      ...         47   6700  4.9   no   no   no  good   no   \n",
       "396  notpresent      ...         54   7800  6.2   no   no   no  good   no   \n",
       "397  notpresent      ...         49   6600  5.4   no   no   no  good   no   \n",
       "398  notpresent      ...         51   7200  5.9   no   no   no  good   no   \n",
       "399  notpresent      ...         53   6800  6.1   no   no   no  good   no   \n",
       "\n",
       "     ane classification  \n",
       "0     no            ckd  \n",
       "1     no            ckd  \n",
       "2    yes            ckd  \n",
       "3    yes            ckd  \n",
       "4     no            ckd  \n",
       "5     no            ckd  \n",
       "6     no            ckd  \n",
       "7     no            ckd  \n",
       "8    yes            ckd  \n",
       "9    yes            ckd  \n",
       "10   yes            ckd  \n",
       "11    no            ckd  \n",
       "12    no            ckd  \n",
       "13    no            ckd  \n",
       "14    no            ckd  \n",
       "15   yes            ckd  \n",
       "16    no            ckd  \n",
       "17    no            ckd  \n",
       "18    no            ckd  \n",
       "19    no            ckd  \n",
       "20   yes            ckd  \n",
       "21    no            ckd  \n",
       "22   yes            ckd  \n",
       "23   yes            ckd  \n",
       "24    no            ckd  \n",
       "25   yes            ckd  \n",
       "26    no            ckd  \n",
       "27    no            ckd  \n",
       "28    no            ckd  \n",
       "29    no            ckd  \n",
       "..   ...            ...  \n",
       "370   no         notckd  \n",
       "371   no         notckd  \n",
       "372   no         notckd  \n",
       "373   no         notckd  \n",
       "374   no         notckd  \n",
       "375   no         notckd  \n",
       "376   no         notckd  \n",
       "377   no         notckd  \n",
       "378   no         notckd  \n",
       "379   no         notckd  \n",
       "380   no         notckd  \n",
       "381   no         notckd  \n",
       "382   no         notckd  \n",
       "383   no         notckd  \n",
       "384   no         notckd  \n",
       "385   no         notckd  \n",
       "386   no         notckd  \n",
       "387   no         notckd  \n",
       "388   no         notckd  \n",
       "389   no         notckd  \n",
       "390   no         notckd  \n",
       "391   no         notckd  \n",
       "392   no         notckd  \n",
       "393   no         notckd  \n",
       "394   no         notckd  \n",
       "395   no         notckd  \n",
       "396   no         notckd  \n",
       "397   no         notckd  \n",
       "398   no         notckd  \n",
       "399   no         notckd  \n",
       "\n",
       "[400 rows x 26 columns]>"
      ]
     },
     "execution_count": 60,
     "metadata": {},
     "output_type": "execute_result"
    }
   ],
   "source": [
    "df.Data"
   ]
  },
  {
   "cell_type": "code",
   "execution_count": 6,
   "metadata": {
    "scrolled": true
   },
   "outputs": [
    {
     "data": {
      "text/html": [
       "<div>\n",
       "<style>\n",
       "    .dataframe thead tr:only-child th {\n",
       "        text-align: right;\n",
       "    }\n",
       "\n",
       "    .dataframe thead th {\n",
       "        text-align: left;\n",
       "    }\n",
       "\n",
       "    .dataframe tbody tr th {\n",
       "        vertical-align: top;\n",
       "    }\n",
       "</style>\n",
       "<table border=\"1\" class=\"dataframe\">\n",
       "  <thead>\n",
       "    <tr style=\"text-align: right;\">\n",
       "      <th></th>\n",
       "      <th>id</th>\n",
       "      <th>age</th>\n",
       "      <th>bp</th>\n",
       "      <th>sg</th>\n",
       "      <th>al</th>\n",
       "      <th>su</th>\n",
       "      <th>rbc</th>\n",
       "      <th>pc</th>\n",
       "      <th>pcc</th>\n",
       "      <th>ba</th>\n",
       "      <th>...</th>\n",
       "      <th>pcv</th>\n",
       "      <th>wc</th>\n",
       "      <th>rc</th>\n",
       "      <th>htn</th>\n",
       "      <th>dm</th>\n",
       "      <th>cad</th>\n",
       "      <th>appet</th>\n",
       "      <th>pe</th>\n",
       "      <th>ane</th>\n",
       "      <th>classification</th>\n",
       "    </tr>\n",
       "  </thead>\n",
       "  <tbody>\n",
       "    <tr>\n",
       "      <th>0</th>\n",
       "      <td>0</td>\n",
       "      <td>48.0</td>\n",
       "      <td>80.0</td>\n",
       "      <td>1.020</td>\n",
       "      <td>1.0</td>\n",
       "      <td>0.0</td>\n",
       "      <td>NaN</td>\n",
       "      <td>normal</td>\n",
       "      <td>notpresent</td>\n",
       "      <td>notpresent</td>\n",
       "      <td>...</td>\n",
       "      <td>44</td>\n",
       "      <td>7800</td>\n",
       "      <td>5.2</td>\n",
       "      <td>yes</td>\n",
       "      <td>yes</td>\n",
       "      <td>no</td>\n",
       "      <td>good</td>\n",
       "      <td>no</td>\n",
       "      <td>no</td>\n",
       "      <td>ckd</td>\n",
       "    </tr>\n",
       "    <tr>\n",
       "      <th>1</th>\n",
       "      <td>1</td>\n",
       "      <td>7.0</td>\n",
       "      <td>50.0</td>\n",
       "      <td>1.020</td>\n",
       "      <td>4.0</td>\n",
       "      <td>0.0</td>\n",
       "      <td>NaN</td>\n",
       "      <td>normal</td>\n",
       "      <td>notpresent</td>\n",
       "      <td>notpresent</td>\n",
       "      <td>...</td>\n",
       "      <td>38</td>\n",
       "      <td>6000</td>\n",
       "      <td>NaN</td>\n",
       "      <td>no</td>\n",
       "      <td>no</td>\n",
       "      <td>no</td>\n",
       "      <td>good</td>\n",
       "      <td>no</td>\n",
       "      <td>no</td>\n",
       "      <td>ckd</td>\n",
       "    </tr>\n",
       "    <tr>\n",
       "      <th>2</th>\n",
       "      <td>2</td>\n",
       "      <td>62.0</td>\n",
       "      <td>80.0</td>\n",
       "      <td>1.010</td>\n",
       "      <td>2.0</td>\n",
       "      <td>3.0</td>\n",
       "      <td>normal</td>\n",
       "      <td>normal</td>\n",
       "      <td>notpresent</td>\n",
       "      <td>notpresent</td>\n",
       "      <td>...</td>\n",
       "      <td>31</td>\n",
       "      <td>7500</td>\n",
       "      <td>NaN</td>\n",
       "      <td>no</td>\n",
       "      <td>yes</td>\n",
       "      <td>no</td>\n",
       "      <td>poor</td>\n",
       "      <td>no</td>\n",
       "      <td>yes</td>\n",
       "      <td>ckd</td>\n",
       "    </tr>\n",
       "    <tr>\n",
       "      <th>3</th>\n",
       "      <td>3</td>\n",
       "      <td>48.0</td>\n",
       "      <td>70.0</td>\n",
       "      <td>1.005</td>\n",
       "      <td>4.0</td>\n",
       "      <td>0.0</td>\n",
       "      <td>normal</td>\n",
       "      <td>abnormal</td>\n",
       "      <td>present</td>\n",
       "      <td>notpresent</td>\n",
       "      <td>...</td>\n",
       "      <td>32</td>\n",
       "      <td>6700</td>\n",
       "      <td>3.9</td>\n",
       "      <td>yes</td>\n",
       "      <td>no</td>\n",
       "      <td>no</td>\n",
       "      <td>poor</td>\n",
       "      <td>yes</td>\n",
       "      <td>yes</td>\n",
       "      <td>ckd</td>\n",
       "    </tr>\n",
       "    <tr>\n",
       "      <th>4</th>\n",
       "      <td>4</td>\n",
       "      <td>51.0</td>\n",
       "      <td>80.0</td>\n",
       "      <td>1.010</td>\n",
       "      <td>2.0</td>\n",
       "      <td>0.0</td>\n",
       "      <td>normal</td>\n",
       "      <td>normal</td>\n",
       "      <td>notpresent</td>\n",
       "      <td>notpresent</td>\n",
       "      <td>...</td>\n",
       "      <td>35</td>\n",
       "      <td>7300</td>\n",
       "      <td>4.6</td>\n",
       "      <td>no</td>\n",
       "      <td>no</td>\n",
       "      <td>no</td>\n",
       "      <td>good</td>\n",
       "      <td>no</td>\n",
       "      <td>no</td>\n",
       "      <td>ckd</td>\n",
       "    </tr>\n",
       "  </tbody>\n",
       "</table>\n",
       "<p>5 rows × 26 columns</p>\n",
       "</div>"
      ],
      "text/plain": [
       "   id   age    bp     sg   al   su     rbc        pc         pcc          ba  \\\n",
       "0   0  48.0  80.0  1.020  1.0  0.0     NaN    normal  notpresent  notpresent   \n",
       "1   1   7.0  50.0  1.020  4.0  0.0     NaN    normal  notpresent  notpresent   \n",
       "2   2  62.0  80.0  1.010  2.0  3.0  normal    normal  notpresent  notpresent   \n",
       "3   3  48.0  70.0  1.005  4.0  0.0  normal  abnormal     present  notpresent   \n",
       "4   4  51.0  80.0  1.010  2.0  0.0  normal    normal  notpresent  notpresent   \n",
       "\n",
       "       ...        pcv    wc   rc  htn   dm  cad appet   pe  ane classification  \n",
       "0      ...         44  7800  5.2  yes  yes   no  good   no   no            ckd  \n",
       "1      ...         38  6000  NaN   no   no   no  good   no   no            ckd  \n",
       "2      ...         31  7500  NaN   no  yes   no  poor   no  yes            ckd  \n",
       "3      ...         32  6700  3.9  yes   no   no  poor  yes  yes            ckd  \n",
       "4      ...         35  7300  4.6   no   no   no  good   no   no            ckd  \n",
       "\n",
       "[5 rows x 26 columns]"
      ]
     },
     "execution_count": 6,
     "metadata": {},
     "output_type": "execute_result"
    }
   ],
   "source": [
    "df.head()"
   ]
  },
  {
   "cell_type": "markdown",
   "metadata": {},
   "source": [
    "Filtering out affected patients"
   ]
  },
  {
   "cell_type": "code",
   "execution_count": null,
   "metadata": {
    "collapsed": true
   },
   "outputs": [],
   "source": [
    "\n",
    "ckd = df[df['classification']=='ckd']\n",
    "ckd.describe()"
   ]
  },
  {
   "cell_type": "markdown",
   "metadata": {},
   "source": [
    "Building and visualizing correlation matrix"
   ]
  },
  {
   "cell_type": "code",
   "execution_count": 7,
   "metadata": {},
   "outputs": [
    {
     "data": {
      "image/png": "[encoded data removed]",
      "text/plain": [
       "<matplotlib.figure.Figure at 0x10d5536d0>"
      ]
     },
     "metadata": {},
     "output_type": "display_data"
    }
   ],
   "source": [
    "df = pd.read_csv('kidney.csv')\n",
    "correlations = df.corr()\n",
    "fig = plt.figure()\n",
    "ax = fig.add_subplot(111)\n",
    "cax = ax.matshow(correlations, vmin=-1, vmax=1)\n",
    "fig.colorbar(cax)\n",
    "ticks = np.arange(0,9,1)\n",
    "ax.set_xticks(ticks)\n",
    "ax.set_yticks(ticks)\n",
    "ax.set_xticklabels(names)\n",
    "ax.set_yticklabels(names)\n",
    "plt.show()"
   ]
  },
  {
   "cell_type": "markdown",
   "metadata": {},
   "source": [
    "## Assignment 2"
   ]
  },
  {
   "cell_type": "code",
   "execution_count": 63,
   "metadata": {
    "collapsed": true
   },
   "outputs": [],
   "source": [
    "obs = {'Id':[1,2,3,4,5,6,7,8,9,10,11,12],\n",
    "       'Weight':[92,70,58,99,55,76,62,92,71,70,77,79],\n",
    "       'Exercise':[6,6,6,2,8,4,6,6,5,6,4,4],\n",
    "       'Cholesterol':[4.8, 5.1, 6.4, 6.5, 2.3, 5.7, 4.2, 6.9, 4.8, 4.8, 7.7, 5.7],\n",
    "       'Income':[2060,2660,2530,1740, 3520, 3750, 2720, 3130, 2100,3340, 2430, 2700],\n",
    "       'Happiness':[49,36,49,28,77,55,43,39,54,29,53,47],\n",
    "       'Birthyear':[1953,1955,1939,1942,1989,1937,1979,1905,1995,1966,1938,1993]}"
   ]
  },
  {
   "cell_type": "code",
   "execution_count": 64,
   "metadata": {
    "collapsed": true
   },
   "outputs": [],
   "source": [
    "dframe = pd.DataFrame(obs)"
   ]
  },
  {
   "cell_type": "code",
   "execution_count": 89,
   "metadata": {
    "collapsed": true
   },
   "outputs": [],
   "source": [
    "m = dframe['Income'].mean()"
   ]
  },
  {
   "cell_type": "code",
   "execution_count": 114,
   "metadata": {},
   "outputs": [
    {
     "name": "stdout",
     "output_type": "stream",
     "text": [
      "Person 1: below average income.\n",
      "Person 2: below average income.\n",
      "Person 3: below average income.\n",
      "Person 4: below average income.\n",
      "Person 5: above average income.\n",
      "Person 6: above average income.\n",
      "Person 7: below average income.\n",
      "Person 8: above average income.\n",
      "Person 9: below average income.\n",
      "Person 10: above average income.\n",
      "Person 11: below average income.\n",
      "Person 12: below average income.\n"
     ]
    }
   ],
   "source": [
    "for i,income in zip(dframe['Id'], dframe['Income']):\n",
    "    if income < m:\n",
    "        print(\"Person \" + str(i) + \": below average income.\")\n",
    "    else:\n",
    "        print(\"Person \" + str(i) + \": above average income.\")"
   ]
  },
  {
   "cell_type": "code",
   "execution_count": 91,
   "metadata": {},
   "outputs": [
    {
     "name": "stdout",
     "output_type": "stream",
     "text": [
      "2723.33333333\n"
     ]
    }
   ],
   "source": [
    "print(m)"
   ]
  },
  {
   "cell_type": "code",
   "execution_count": 100,
   "metadata": {},
   "outputs": [
    {
     "data": {
      "text/plain": [
       "<pandas.core.indexing._iLocIndexer at 0x10fde3750>"
      ]
     },
     "execution_count": 100,
     "metadata": {},
     "output_type": "execute_result"
    }
   ],
   "source": [
    "dframe.iloc([[1],'Income'])"
   ]
  },
  {
   "cell_type": "markdown",
   "metadata": {},
   "source": [
    "## Assignment 2"
   ]
  },
  {
   "cell_type": "code",
   "execution_count": 12,
   "metadata": {},
   "outputs": [
    {
     "name": "stdout",
     "output_type": "stream",
     "text": [
      "0    5\n",
      "1    2\n",
      "2    7\n",
      "dtype: int64\n"
     ]
    }
   ],
   "source": [
    "datum = pd.Series([5,2,7])\n",
    "print(datum)"
   ]
  },
  {
   "cell_type": "code",
   "execution_count": null,
   "metadata": {
    "collapsed": true
   },
   "outputs": [],
   "source": []
  }
 ],
 "metadata": {
  "kernelspec": {
   "display_name": "Python 2",
   "language": "python",
   "name": "python2"
  },
  "language_info": {
   "codemirror_mode": {
    "name": "ipython",
    "version": 2
   },
   "file_extension": ".py",
   "mimetype": "text/x-python",
   "name": "python",
   "nbconvert_exporter": "python",
   "pygments_lexer": "ipython2",
   "version": "2.7.14"
  }
 },
 "nbformat": 4,
 "nbformat_minor": 2
}
